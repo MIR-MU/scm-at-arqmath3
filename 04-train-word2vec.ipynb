{
 "cells": [
  {
   "cell_type": "markdown",
   "id": "d232a003-836f-4940-86b7-3be5da304a8b",
   "metadata": {},
   "source": [
    "# Train `word2vec`"
   ]
  },
  {
   "cell_type": "markdown",
   "id": "77d74700-e047-4d0b-a0bd-77597eb77e2b",
   "metadata": {},
   "source": [
    "In this notebook, we will fine-tune the `word2vec` model, so that it can represent math-specific tokens."
   ]
  },
  {
   "cell_type": "code",
   "execution_count": 1,
   "id": "a970c4d0-4f9e-4070-9bcf-29ceff2d1656",
   "metadata": {},
   "outputs": [
    {
     "name": "stdout",
     "output_type": "stream",
     "text": [
      "mir.fi.muni.cz\n"
     ]
    }
   ],
   "source": [
    "! hostname"
   ]
  },
  {
   "cell_type": "markdown",
   "id": "ca548959-2b09-4408-a409-de40d4671c15",
   "metadata": {},
   "source": [
    "## The text + LaTeX format\n",
    "\n",
    "As our primary representation, we use text and LaTeX separated by special `[MATH]` and `[/MATH]` tokens."
   ]
  },
  {
   "cell_type": "code",
   "execution_count": 2,
   "id": "92b52b98-714f-4680-abf2-d9d6cf69a4cd",
   "metadata": {},
   "outputs": [],
   "source": [
    "%%capture\n",
    "! make word2vec-text+latex"
   ]
  },
  {
   "cell_type": "code",
   "execution_count": 3,
   "id": "200f1997-dc27-48c3-ac47-2b9712fea3a6",
   "metadata": {},
   "outputs": [],
   "source": [
    "%%capture\n",
    "! make word2vec-text+latex-positional"
   ]
  },
  {
   "cell_type": "markdown",
   "id": "9d3e8508-8646-48d1-b35b-924fd0768ee2",
   "metadata": {},
   "source": [
    "## The LaTeX format\n",
    "\n",
    "To train a `word2vec` model just for math, we also have a separate dataset with just LaTeX."
   ]
  },
  {
   "cell_type": "code",
   "execution_count": 4,
   "id": "a7fb3a4c-1796-4c48-a896-6328fc452b41",
   "metadata": {},
   "outputs": [],
   "source": [
    "%%capture\n",
    "! make word2vec-latex"
   ]
  },
  {
   "cell_type": "code",
   "execution_count": 5,
   "id": "f61df8b8-b736-42a1-9a2b-dc251b3079d3",
   "metadata": {},
   "outputs": [],
   "source": [
    "%%capture\n",
    "! make word2vec-latex-positional"
   ]
  },
  {
   "cell_type": "markdown",
   "id": "756a1d58-877a-43d5-a34f-0f807b90b2a1",
   "metadata": {},
   "source": [
    "## The Tangent-L format\n",
    "\n",
    "To train a word2vec model just for math, we also have a separate dataset with just the format used by [the Tangent-L search engine from UWaterloo][1].\n",
    "\n",
    " [1]: http://ceur-ws.org/Vol-2936/paper-05.pdf"
   ]
  },
  {
   "cell_type": "code",
   "execution_count": 6,
   "id": "1604ba54-cae9-4a9f-9247-1526c2eb284f",
   "metadata": {},
   "outputs": [],
   "source": [
    "%%capture\n",
    "! make word2vec-tangentl"
   ]
  },
  {
   "cell_type": "code",
   "execution_count": 7,
   "id": "244db219-be9b-4d83-8fb3-ff282f57d33e",
   "metadata": {},
   "outputs": [],
   "source": [
    "%%capture\n",
    "! make word2vec-tangentl-positional"
   ]
  }
 ],
 "metadata": {
  "kernelspec": {
   "display_name": "Python 3 (ipykernel)",
   "language": "python",
   "name": "python3"
  },
  "language_info": {
   "codemirror_mode": {
    "name": "ipython",
    "version": 3
   },
   "file_extension": ".py",
   "mimetype": "text/x-python",
   "name": "python",
   "nbconvert_exporter": "python",
   "pygments_lexer": "ipython3",
   "version": "3.7.11"
  }
 },
 "nbformat": 4,
 "nbformat_minor": 5
}
