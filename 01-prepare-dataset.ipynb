{
 "cells": [
  {
   "cell_type": "markdown",
   "id": "8105520d-9d6c-4bd8-b2b1-e41a330bb6b7",
   "metadata": {},
   "source": [
    "# Prepare training dataset\n",
    "\n",
    "To train tokenizer and language models, we will prepare a datasets from [ArXMLiv 2020][1] and [Math StackExchange][2] datasets.\n",
    "\n",
    " [1]: https://sigmathling.kwarc.info/resources/arxmliv-dataset-2020/\n",
    " [2]: https://www.cs.rit.edu/~dprl/ARQMath/arqmath-resources.html"
   ]
  },
  {
   "cell_type": "code",
   "execution_count": 1,
   "id": "32dd4523-8c12-483f-a432-39622c34b68b",
   "metadata": {},
   "outputs": [
    {
     "name": "stdout",
     "output_type": "stream",
     "text": [
      "mir.fi.muni.cz\n"
     ]
    }
   ],
   "source": [
    "! hostname -f"
   ]
  },
  {
   "cell_type": "code",
   "execution_count": 2,
   "id": "73bdc629-9ad8-4048-bc66-115b40896907",
   "metadata": {},
   "outputs": [],
   "source": [
    "%%capture\n",
    "! pip install .[dataset]"
   ]
  },
  {
   "cell_type": "markdown",
   "id": "d15a3c53-fec1-471d-a9a3-33528e268b13",
   "metadata": {},
   "source": [
    "## The text + LaTeX format\n",
    "\n",
    "As our primary representation, we use text and LaTeX separated by special `[MATH]` and `[/MATH]` tokens."
   ]
  },
  {
   "cell_type": "code",
   "execution_count": 3,
   "id": "60467d2b-b6ac-409b-9158-75a0e6f8be4b",
   "metadata": {},
   "outputs": [],
   "source": [
    "%%capture\n",
    "! make dataset-text+latex.txt"
   ]
  },
  {
   "cell_type": "code",
   "execution_count": 4,
   "id": "3ffa8605-2b3f-443e-80af-3d93b21489a5",
   "metadata": {},
   "outputs": [
    {
     "name": "stdout",
     "output_type": "stream",
     "text": [
      "-rw-rw-r-- 1 novotny novotny 4.3G Apr 23 01:44 dataset-text+latex.txt\n"
     ]
    }
   ],
   "source": [
    "%ls -lh dataset-text+latex.txt"
   ]
  },
  {
   "cell_type": "code",
   "execution_count": 5,
   "id": "cf96978a-e8cc-4b2b-adfe-043b703238b5",
   "metadata": {},
   "outputs": [
    {
     "name": "stdout",
     "output_type": "stream",
     "text": [
      "Now assume the degree [MATH] p [/MATH] of [MATH] L/K [/MATH] is prime, and assume that [MATH] \\mathfrak p [/MATH] has two prime factors [MATH] \\mathfrak P_1 [/MATH] and [MATH] \\mathfrak P_2 [/MATH] in [MATH] L [/MATH] of degree 1. This implies we have two cosets [MATH] H\\sigma_1 [/MATH] and [MATH] H\\sigma_2 [/MATH] who orbits under the action of [MATH] G_Q [/MATH] are of size 1. [MATH] G [/MATH] is a solvable group with a transitive action on the [MATH] p [/MATH] cosets [MATH] H\\sigma_1,\\dots,H\\sigma_p [/MATH] . Thus each element of [MATH] G_Q [/MATH] fixes the two cosets [MATH] H\\sigma_1 [/MATH] and [MATH] H\\sigma_2 [/MATH] , so by the theorem given in the Hint, each element of [MATH] G_Q [/MATH] must fix all the cosets, so [MATH] G_Q [/MATH] partitions the [MATH] H\\sigma_i [/MATH] into [MATH] p [/MATH] distinct orbits of one element each. Thus, every prime factor of [MATH] \\mathfrak p [/MATH] in [MATH] L [/MATH] is of degree 1 over [MATH] \\mathfrak p [/MATH] .\n",
      "Anyway, the best test will be to see what the future will tell us. This book was published shortly before the beginning of the trade war313131Let us recall that our Table 2 was first published in 2017.. In the meawhile there were also several pro-Taiwan bills passed by Congress. All this points to a direction which is at variance with the predictions of the authors. Of course, one should not rely on such short term events, let us see what will happen in the next five years.\n",
      "Observation #149h, on MJD 52707.91 appears completely different from the surrounding ones. The power spectrum and the corresponding spectrogram are shown in Fig. 14. The power is dominated by a single QPO peak at 0.91 [MATH] \\pm [/MATH] 0.04 Hz, with a FWHM of 0.33 [MATH] \\pm [/MATH] 0.06. The spectrogram shows that this peak is not stable in time and shifts from 0.7 to 1.2 Hz over the observation. Aside from the frequency, this behavior is similar to that of the type-B QPOs described above, including the position in the color-hardness diagram. We extracted the QPO phase lag as described in the previous sections, but the results is consistent with no lags (-0.077 [MATH] \\pm [/MATH] 0.076 rad). The fractional rms in the QPO peak is [MATH] \\sim [/MATH] 7%.\n"
     ]
    }
   ],
   "source": [
    "! head -3 dataset-text+latex.txt"
   ]
  },
  {
   "cell_type": "markdown",
   "id": "b6021394-abfe-49e1-935f-5deefe940ea6",
   "metadata": {},
   "source": [
    "## The LaTeX format\n",
    "\n",
    "To train a tokenizer just for math, we also have a separate dataset with just LaTeX."
   ]
  },
  {
   "cell_type": "code",
   "execution_count": 6,
   "id": "f6d52467-0ebc-4026-abad-32cb5d86ec25",
   "metadata": {},
   "outputs": [],
   "source": [
    "%%capture\n",
    "! make dataset-latex.txt"
   ]
  },
  {
   "cell_type": "code",
   "execution_count": 7,
   "id": "c4868409-ccce-4635-8410-a3bc61942711",
   "metadata": {},
   "outputs": [
    {
     "name": "stdout",
     "output_type": "stream",
     "text": [
      "-rw-rw-r-- 1 novotny novotny 769M Apr 21 15:42 dataset-latex.txt\n"
     ]
    }
   ],
   "source": [
    "%ls -lh dataset-latex.txt"
   ]
  },
  {
   "cell_type": "code",
   "execution_count": 8,
   "id": "52ba4e68-7bf7-4156-a104-798eac46dced",
   "metadata": {},
   "outputs": [
    {
     "name": "stdout",
     "output_type": "stream",
     "text": [
      "X-y=\\{x+(-y):x\\in X\\}\n",
      "VD({\\mathbf{P}})=\\cup_{p\\in{\\mathbf{P}}}\\partial vor(p)\n",
      "n\\cdot (n-1) \\equiv 0 \\pmod{10^d}\n"
     ]
    }
   ],
   "source": [
    "! head -3 dataset-latex.txt"
   ]
  }
 ],
 "metadata": {
  "kernelspec": {
   "display_name": "Python 3 (ipykernel)",
   "language": "python",
   "name": "python3"
  },
  "language_info": {
   "codemirror_mode": {
    "name": "ipython",
    "version": 3
   },
   "file_extension": ".py",
   "mimetype": "text/x-python",
   "name": "python",
   "nbconvert_exporter": "python",
   "pygments_lexer": "ipython3",
   "version": "3.7.3"
  }
 },
 "nbformat": 4,
 "nbformat_minor": 5
}
