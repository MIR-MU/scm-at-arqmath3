{
 "cells": [
  {
   "cell_type": "markdown",
   "id": "8105520d-9d6c-4bd8-b2b1-e41a330bb6b7",
   "metadata": {},
   "source": [
    "# Prepare training dataset\n",
    "\n",
    "To train tokenizer and language models, we will prepare a datasets from [ArXMLiv 2020][1] and [Math StackExchange][2] datasets.\n",
    "\n",
    " [1]: https://sigmathling.kwarc.info/resources/arxmliv-dataset-2020/\n",
    " [2]: https://www.cs.rit.edu/~dprl/ARQMath/arqmath-resources.html"
   ]
  },
  {
   "cell_type": "code",
   "execution_count": 1,
   "id": "73bdc629-9ad8-4048-bc66-115b40896907",
   "metadata": {},
   "outputs": [],
   "source": [
    "%%capture\n",
    "! pip install .[dataset]"
   ]
  },
  {
   "cell_type": "markdown",
   "id": "d15a3c53-fec1-471d-a9a3-33528e268b13",
   "metadata": {},
   "source": [
    "As our primary representation, we use text and LaTeX separated by special `[MATH]` and `[/MATH]` tokens."
   ]
  },
  {
   "cell_type": "code",
   "execution_count": 2,
   "id": "60467d2b-b6ac-409b-9158-75a0e6f8be4b",
   "metadata": {},
   "outputs": [],
   "source": [
    "%%capture\n",
    "! make dataset-text+latex.txt"
   ]
  },
  {
   "cell_type": "code",
   "execution_count": 3,
   "id": "3ffa8605-2b3f-443e-80af-3d93b21489a5",
   "metadata": {},
   "outputs": [
    {
     "name": "stdout",
     "output_type": "stream",
     "text": [
      "-rw-rw-r-- 1 novotny novotny 4.3G Apr 21 19:25 dataset-text+latex.txt\n"
     ]
    }
   ],
   "source": [
    "%ls -lh dataset-text+latex.txt"
   ]
  },
  {
   "cell_type": "code",
   "execution_count": 4,
   "id": "cf96978a-e8cc-4b2b-adfe-043b703238b5",
   "metadata": {},
   "outputs": [
    {
     "name": "stdout",
     "output_type": "stream",
     "text": [
      "The proposed model was trained using ADAM optimizer, initialized with a 0.0005 learning rate, [MATH] \\beta_{1}=0.9 \\beta_{2}=0.999 [/MATH] [27]. The batch size was set to 32, and the number of training steps was 100k. Refer to the implementation code for more details. 111https://github.com/KimythAnly/AGAIN-VC.\n",
      "We will show that the absence of the usual thermal phase transition at the electroweak scale does not preclude electroweak baryogenesis. In fact, according to recent studies of reheating after inflation, the universe could have undergone a period of “preheating” [4], during which only certain modes are highly populated, and the universe remains very far from thermal equilibrium [5]. Such a stage creates an ideal environment in which a substantial baryon asymmetry could be created. The sphaleron transitions, known to cause a baryon number violation at high temperature, may also proceed in a system out of thermal equilibrium. In addition, the very non-equilibrium nature of preheating may facilitate the baryon number generation, as emphasized in Ref. [6] in the context of GUT baryogenesis.\n",
      "Final prediction. Finally, we estimate risk ( [MATH] y_{\\hat{t}}^{F},S_{\\hat{t}}^{F} \\displaystyle y_{t}^{F}=\\sum_{n=0}^{I}\\lambda_{n}\\hat{y}_{\\hat{t}+nK}\\textrm{,% and }S_{t}^{F}=\\sum_{n=0}^{I}\\lambda_{n}\\hat{S}_{\\hat{t}+nK}, [/MATH] (10) where, [MATH] \\lambda_{n} \\hat{y}_{\\hat{t}} y_{\\hat{t}} \\hat{S}_{\\hat{t}} S_{\\hat{t}}\n"
     ]
    }
   ],
   "source": [
    "! head -3 dataset-text+latex.txt"
   ]
  },
  {
   "cell_type": "markdown",
   "id": "b6021394-abfe-49e1-935f-5deefe940ea6",
   "metadata": {},
   "source": [
    "To train a tokenizer just for math, we also have a separate dataset with just LaTeX."
   ]
  },
  {
   "cell_type": "code",
   "execution_count": 5,
   "id": "f6d52467-0ebc-4026-abad-32cb5d86ec25",
   "metadata": {},
   "outputs": [],
   "source": [
    "%%capture\n",
    "! make dataset-latex.txt"
   ]
  },
  {
   "cell_type": "code",
   "execution_count": 6,
   "id": "c4868409-ccce-4635-8410-a3bc61942711",
   "metadata": {},
   "outputs": [
    {
     "name": "stdout",
     "output_type": "stream",
     "text": [
      "-rw-rw-r-- 1 novotny novotny 769M Apr 21 15:42 dataset-latex.txt\n"
     ]
    }
   ],
   "source": [
    "%ls -lh dataset-latex.txt"
   ]
  },
  {
   "cell_type": "code",
   "execution_count": 7,
   "id": "52ba4e68-7bf7-4156-a104-798eac46dced",
   "metadata": {},
   "outputs": [
    {
     "name": "stdout",
     "output_type": "stream",
     "text": [
      "X-y=\\{x+(-y):x\\in X\\}\n",
      "VD({\\mathbf{P}})=\\cup_{p\\in{\\mathbf{P}}}\\partial vor(p)\n",
      "n\\cdot (n-1) \\equiv 0 \\pmod{10^d}\n"
     ]
    }
   ],
   "source": [
    "! head -3 dataset-latex.txt"
   ]
  }
 ],
 "metadata": {
  "kernelspec": {
   "display_name": "Python 3 (ipykernel)",
   "language": "python",
   "name": "python3"
  },
  "language_info": {
   "codemirror_mode": {
    "name": "ipython",
    "version": 3
   },
   "file_extension": ".py",
   "mimetype": "text/x-python",
   "name": "python",
   "nbconvert_exporter": "python",
   "pygments_lexer": "ipython3",
   "version": "3.7.3"
  }
 },
 "nbformat": 4,
 "nbformat_minor": 5
}
