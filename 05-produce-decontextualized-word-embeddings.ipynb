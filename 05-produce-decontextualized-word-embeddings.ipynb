{
 "cells": [
  {
   "cell_type": "markdown",
   "id": "cbd046cd-6f3d-47f1-93f1-fd7a48a3bd69",
   "metadata": {},
   "source": [
    "# Produce decontextualized word embeddings\n",
    "\n",
    "In this notebook, we will produce [decontextualized word embeddings][1] out of [the `roberta-base` model][2] and our fine-tuned version that can represent math-specific tokens.\n",
    "\n",
    " [1]: https://aclanthology.org/2021.wmt-1.112\n",
    " [2]: https://huggingface.co/roberta-base"
   ]
  },
  {
   "cell_type": "code",
   "execution_count": 1,
   "id": "e9283262-7ae0-4753-b00e-2fe08890c262",
   "metadata": {},
   "outputs": [
    {
     "name": "stdout",
     "output_type": "stream",
     "text": [
      "mir\n"
     ]
    }
   ],
   "source": [
    "! hostname"
   ]
  },
  {
   "cell_type": "code",
   "execution_count": null,
   "id": "bd142aa8-51ca-448f-b42e-3547c988a808",
   "metadata": {},
   "outputs": [],
   "source": [
    "%%capture\n",
    "! pip install .[transformers,scm]"
   ]
  },
  {
   "cell_type": "code",
   "execution_count": null,
   "id": "88fdd1cb-5ad1-440a-b909-d34b37a41354",
   "metadata": {},
   "outputs": [],
   "source": [
    "from gensim.models import KeyedVectors"
   ]
  },
  {
   "cell_type": "markdown",
   "id": "9892d9fb-c447-430d-aae2-f05cce930f6d",
   "metadata": {},
   "source": [
    "## The `roberta-base` model\n",
    "\n",
    "First, we will extract decontextualized word embeddings out of the `roberta-base` model."
   ]
  },
  {
   "cell_type": "code",
   "execution_count": null,
   "id": "cbf38a81-ef5d-4c2c-ace9-c15e35349a83",
   "metadata": {},
   "outputs": [],
   "source": [
    "%%capture\n",
    "! make decontextualized-word-embeddings-roberta-base"
   ]
  },
  {
   "cell_type": "code",
   "execution_count": null,
   "id": "d515f6fb-c172-4192-91a0-b643a7cafb09",
   "metadata": {},
   "outputs": [],
   "source": [
    "%ls -lh decontextualized-word-embeddings-roberta-base"
   ]
  },
  {
   "cell_type": "code",
   "execution_count": null,
   "id": "35ea8ced-44f1-4bf0-bfa0-bf82d6240fe7",
   "metadata": {},
   "outputs": [],
   "source": [
    "KeyedVectors.load('decontextualized-word-embeddings-roberta-base').most_similar('integral')"
   ]
  },
  {
   "cell_type": "markdown",
   "id": "5d2ec65b-c791-4dfa-90b0-8c565874f547",
   "metadata": {},
   "source": [
    "## The tuned `roberta-base` model\n",
    "\n",
    "Next, we will extract decontextualized word embeddings out of the `roberta-base` model fine-tuned so that it can represent math-specific tokens."
   ]
  },
  {
   "cell_type": "code",
   "execution_count": null,
   "id": "fb65de7b-c5a4-4cb8-b628-478e4d41b5a0",
   "metadata": {},
   "outputs": [],
   "source": [
    "%%capture\n",
    "! make decontextualized-word-embeddings-tuned-roberta-base-text+latex"
   ]
  },
  {
   "cell_type": "code",
   "execution_count": null,
   "id": "18f5288e-b531-4921-b2fe-36c588163594",
   "metadata": {},
   "outputs": [],
   "source": [
    "%ls -lh decontextualized-word-embeddings-tuned-roberta-base-text+latex"
   ]
  },
  {
   "cell_type": "code",
   "execution_count": null,
   "id": "03b5f130-49f5-45da-b257-462b9098e46c",
   "metadata": {},
   "outputs": [],
   "source": [
    "KeyedVectors.load('decontextualized-word-embeddings-tuned-roberta-base-text+latex').most_similar('integral')"
   ]
  },
  {
   "cell_type": "code",
   "execution_count": null,
   "id": "9b492e8c-6ea6-46fb-8994-1e6d25d551da",
   "metadata": {},
   "outputs": [],
   "source": [
    "KeyedVectors.load('decontextualized-word-embeddings-tuned-roberta-base-text+latex').most_similar('F(x)')"
   ]
  }
 ],
 "metadata": {
  "kernelspec": {
   "display_name": "Python 3 (ipykernel)",
   "language": "python",
   "name": "python3"
  },
  "language_info": {
   "codemirror_mode": {
    "name": "ipython",
    "version": 3
   },
   "file_extension": ".py",
   "mimetype": "text/x-python",
   "name": "python",
   "nbconvert_exporter": "python",
   "pygments_lexer": "ipython3",
   "version": "3.7.3"
  }
 },
 "nbformat": 4,
 "nbformat_minor": 5
}
