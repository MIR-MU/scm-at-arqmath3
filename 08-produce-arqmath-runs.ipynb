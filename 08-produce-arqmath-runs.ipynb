{
 "cells": [
  {
   "cell_type": "markdown",
   "id": "11cd3da2-44e7-4639-ab6b-a0f407130ef8",
   "metadata": {},
   "source": [
    "# Produce ARQMath runs\n",
    "\n",
    "In this notebook, we will runs on the ARQMath-1, ARQMath-2, and ARQMath-3 topics to be submitted to [the ARQMath-3 competition][1].\n",
    "\n",
    " [1]: https://www.cs.rit.edu/~dprl/ARQMath/"
   ]
  },
  {
   "cell_type": "code",
   "execution_count": 1,
   "id": "5ce20b63-7975-4337-b853-5b5bddcde3b8",
   "metadata": {},
   "outputs": [
    {
     "name": "stdout",
     "output_type": "stream",
     "text": [
      "mir\n"
     ]
    }
   ],
   "source": [
    "! hostname"
   ]
  },
  {
   "cell_type": "code",
   "execution_count": 2,
   "id": "742f635e-9740-4e56-bfd4-506bf47dd72d",
   "metadata": {},
   "outputs": [],
   "source": [
    "%%capture\n",
    "! pip install .[scm,evaluation]"
   ]
  },
  {
   "cell_type": "code",
   "execution_count": 3,
   "id": "f873786a-5320-43f0-a6ad-e06275f8c1a7",
   "metadata": {},
   "outputs": [],
   "source": [
    "from pathlib import Path\n",
    "from re import sub\n",
    "\n",
    "from pandas import DataFrame\n",
    "\n",
    "def evaluate_run(basename: str) -> DataFrame:\n",
    "    years = 2020, 2021\n",
    "    measures = 'MAP', \"nDCG'\"\n",
    "    labels = {\"MAP\": \"map\", \"nDCG'\": \"ndcg\"}\n",
    "    formatters = {\"MAP\": lambda x: sub('%$', '', x),\n",
    "                  \"nDCG'\": lambda x: sub(', .*', '', x)}\n",
    "\n",
    "    rows = []\n",
    "    for year in years:\n",
    "        row = []\n",
    "        year_directory = Path(f'submission{year}')\n",
    "        for measure in measures:\n",
    "            label = labels[measure]\n",
    "            measure_file = f'{basename}.{label}_score'\n",
    "            result_file = year_directory / measure_file\n",
    "            with result_file.open('rt') as f:\n",
    "                formatter = formatters[measure]\n",
    "                result = f.read().rstrip('\\r\\n')\n",
    "                result = formatter(result)\n",
    "                result = float(result)\n",
    "                row.append(result)\n",
    "        rows.append(row)\n",
    "\n",
    "    dataframe = DataFrame(rows, index=years, columns=measures)\n",
    "    return dataframe"
   ]
  },
  {
   "cell_type": "markdown",
   "id": "f39cbbdf-9a33-411b-9ec6-b4fe7bced347",
   "metadata": {},
   "source": [
    "## The text format with no term similarities (baseline)\n",
    "\n",
    "As our baseline, we will use a vector space model that uses just text and does not model any term similarities."
   ]
  },
  {
   "cell_type": "code",
   "execution_count": 4,
   "id": "d12e23d9-3c5a-4c1d-a464-ee5b41d9e001",
   "metadata": {},
   "outputs": [],
   "source": [
    "%%capture\n",
    "! make submission2020/SCM-task1-baseline_joint_text-text-auto-X.tsv\n",
    "! make submission2021/SCM-task1-baseline_joint_text-text-auto-X.tsv\n",
    "! make submission2022/SCM-task1-baseline_joint_text-text-auto-X.tsv"
   ]
  },
  {
   "cell_type": "code",
   "execution_count": 5,
   "id": "f4a42965-ddba-4649-af48-36277ce33cd2",
   "metadata": {},
   "outputs": [
    {
     "data": {
      "text/html": [
       "<div>\n",
       "<style scoped>\n",
       "    .dataframe tbody tr th:only-of-type {\n",
       "        vertical-align: middle;\n",
       "    }\n",
       "\n",
       "    .dataframe tbody tr th {\n",
       "        vertical-align: top;\n",
       "    }\n",
       "\n",
       "    .dataframe thead th {\n",
       "        text-align: right;\n",
       "    }\n",
       "</style>\n",
       "<table border=\"1\" class=\"dataframe\">\n",
       "  <thead>\n",
       "    <tr style=\"text-align: right;\">\n",
       "      <th></th>\n",
       "      <th>MAP</th>\n",
       "      <th>nDCG'</th>\n",
       "    </tr>\n",
       "  </thead>\n",
       "  <tbody>\n",
       "    <tr>\n",
       "      <th>2020</th>\n",
       "      <td>1.15</td>\n",
       "      <td>0.137</td>\n",
       "    </tr>\n",
       "    <tr>\n",
       "      <th>2021</th>\n",
       "      <td>0.87</td>\n",
       "      <td>0.103</td>\n",
       "    </tr>\n",
       "  </tbody>\n",
       "</table>\n",
       "</div>"
      ],
      "text/plain": [
       "       MAP  nDCG'\n",
       "2020  1.15  0.137\n",
       "2021  0.87  0.103"
      ]
     },
     "execution_count": 5,
     "metadata": {},
     "output_type": "execute_result"
    }
   ],
   "source": [
    "evaluate_run('SCM-task1-baseline_joint_text-text-auto-X')"
   ]
  },
  {
   "cell_type": "markdown",
   "id": "5c5c33c2-864b-4ae7-9a0b-8bec2e1ff101",
   "metadata": {},
   "source": [
    "## Joint soft vector space models\n",
    "\n",
    "First, we will produce runs using soft vector space models that jointly model both text and math. Information retrieval systems based on joint soft vector space models allow users to request math information using natural language and vise versa."
   ]
  },
  {
   "cell_type": "markdown",
   "id": "e24b726c-cadc-4896-9230-90c2a9c61b29",
   "metadata": {},
   "source": [
    "### The text + LaTeX format with no term similarities (baseline)\n",
    "\n",
    "As a baseline, we will use a joint vector space model that uses text and LaTeX separated by special `[MATH]` and `[/MATH]` tokens, and does not model any term similarities."
   ]
  },
  {
   "cell_type": "code",
   "execution_count": 6,
   "id": "91e1c8de-c3d6-465f-a79e-8b6895dbddcd",
   "metadata": {},
   "outputs": [],
   "source": [
    "%%capture\n",
    "! make submission2020/SCM-task1-baseline_joint_text+latex-both-auto-X.tsv\n",
    "! make submission2021/SCM-task1-baseline_joint_text+latex-both-auto-X.tsv\n",
    "! make submission2022/SCM-task1-baseline_joint_text+latex-both-auto-X.tsv"
   ]
  },
  {
   "cell_type": "code",
   "execution_count": 7,
   "id": "75725cc3-5c3e-4bb1-b669-50073b1213c1",
   "metadata": {},
   "outputs": [
    {
     "data": {
      "text/html": [
       "<div>\n",
       "<style scoped>\n",
       "    .dataframe tbody tr th:only-of-type {\n",
       "        vertical-align: middle;\n",
       "    }\n",
       "\n",
       "    .dataframe tbody tr th {\n",
       "        vertical-align: top;\n",
       "    }\n",
       "\n",
       "    .dataframe thead th {\n",
       "        text-align: right;\n",
       "    }\n",
       "</style>\n",
       "<table border=\"1\" class=\"dataframe\">\n",
       "  <thead>\n",
       "    <tr style=\"text-align: right;\">\n",
       "      <th></th>\n",
       "      <th>MAP</th>\n",
       "      <th>nDCG'</th>\n",
       "    </tr>\n",
       "  </thead>\n",
       "  <tbody>\n",
       "    <tr>\n",
       "      <th>2020</th>\n",
       "      <td>3.30</td>\n",
       "      <td>0.222</td>\n",
       "    </tr>\n",
       "    <tr>\n",
       "      <th>2021</th>\n",
       "      <td>1.37</td>\n",
       "      <td>0.168</td>\n",
       "    </tr>\n",
       "  </tbody>\n",
       "</table>\n",
       "</div>"
      ],
      "text/plain": [
       "       MAP  nDCG'\n",
       "2020  3.30  0.222\n",
       "2021  1.37  0.168"
      ]
     },
     "execution_count": 7,
     "metadata": {},
     "output_type": "execute_result"
    }
   ],
   "source": [
    "evaluate_run('SCM-task1-baseline_joint_text+latex-both-auto-X')"
   ]
  },
  {
   "cell_type": "markdown",
   "id": "24d1f3d0-219a-4cf6-b090-e14069605959",
   "metadata": {},
   "source": [
    "### The text + LaTeX format with non-positional `word2vec` embeddings\n",
    "\n",
    "As an alternative run, we will use a joint soft vector space model that uses text and LaTeX separated by special `[MATH]` and `[/MATH]` tokens, and models term similarities based on semantic similarities using `word2vec` models without [positional weighting][1].\n",
    "\n",
    " [1]: https://github.com/MIR-MU/pine"
   ]
  },
  {
   "cell_type": "code",
   "execution_count": 8,
   "id": "db512183-b602-4196-b2c2-34652cf81859",
   "metadata": {},
   "outputs": [],
   "source": [
    "%%capture\n",
    "! make submission2020/SCM-task1-joint_word2vec-both-auto-A.tsv\n",
    "! make submission2021/SCM-task1-joint_word2vec-both-auto-A.tsv\n",
    "! make submission2022/SCM-task1-joint_word2vec-both-auto-A.tsv"
   ]
  },
  {
   "cell_type": "code",
   "execution_count": 9,
   "id": "628fde62-cf6f-413d-91f7-f9f724ecaa04",
   "metadata": {},
   "outputs": [
    {
     "data": {
      "text/html": [
       "<div>\n",
       "<style scoped>\n",
       "    .dataframe tbody tr th:only-of-type {\n",
       "        vertical-align: middle;\n",
       "    }\n",
       "\n",
       "    .dataframe tbody tr th {\n",
       "        vertical-align: top;\n",
       "    }\n",
       "\n",
       "    .dataframe thead th {\n",
       "        text-align: right;\n",
       "    }\n",
       "</style>\n",
       "<table border=\"1\" class=\"dataframe\">\n",
       "  <thead>\n",
       "    <tr style=\"text-align: right;\">\n",
       "      <th></th>\n",
       "      <th>MAP</th>\n",
       "      <th>nDCG'</th>\n",
       "    </tr>\n",
       "  </thead>\n",
       "  <tbody>\n",
       "    <tr>\n",
       "      <th>2020</th>\n",
       "      <td>3.36</td>\n",
       "      <td>0.247</td>\n",
       "    </tr>\n",
       "    <tr>\n",
       "      <th>2021</th>\n",
       "      <td>1.48</td>\n",
       "      <td>0.183</td>\n",
       "    </tr>\n",
       "  </tbody>\n",
       "</table>\n",
       "</div>"
      ],
      "text/plain": [
       "       MAP  nDCG'\n",
       "2020  3.36  0.247\n",
       "2021  1.48  0.183"
      ]
     },
     "execution_count": 9,
     "metadata": {},
     "output_type": "execute_result"
    }
   ],
   "source": [
    "evaluate_run('SCM-task1-joint_word2vec-both-auto-A')"
   ]
  },
  {
   "cell_type": "markdown",
   "id": "502ba237-94d3-4923-9fe4-25394e12e7c0",
   "metadata": {},
   "source": [
    "### The text + LaTeX format with positional `word2vec` embeddings\n",
    "\n",
    "As another alternative run, we will use a joint soft vector space model that uses text and LaTeX separated by special `[MATH]` and `[/MATH]` tokens, and models term similarities based on semantic similarities using `word2vec` models with [positional weighting][1].\n",
    "\n",
    " [1]: https://github.com/MIR-MU/pine"
   ]
  },
  {
   "cell_type": "code",
   "execution_count": 10,
   "id": "181b2b9f-6fc5-4355-ab96-3dbb30d29b38",
   "metadata": {},
   "outputs": [],
   "source": [
    "%%capture\n",
    "! make submission2020/SCM-task1-joint_positional_word2vec-both-auto-A.tsv\n",
    "! make submission2021/SCM-task1-joint_positional_word2vec-both-auto-A.tsv\n",
    "! make submission2022/SCM-task1-joint_positional_word2vec-both-auto-A.tsv"
   ]
  },
  {
   "cell_type": "code",
   "execution_count": 11,
   "id": "69462399-d1f3-463a-870e-b80400519253",
   "metadata": {},
   "outputs": [
    {
     "data": {
      "text/html": [
       "<div>\n",
       "<style scoped>\n",
       "    .dataframe tbody tr th:only-of-type {\n",
       "        vertical-align: middle;\n",
       "    }\n",
       "\n",
       "    .dataframe tbody tr th {\n",
       "        vertical-align: top;\n",
       "    }\n",
       "\n",
       "    .dataframe thead th {\n",
       "        text-align: right;\n",
       "    }\n",
       "</style>\n",
       "<table border=\"1\" class=\"dataframe\">\n",
       "  <thead>\n",
       "    <tr style=\"text-align: right;\">\n",
       "      <th></th>\n",
       "      <th>MAP</th>\n",
       "      <th>nDCG'</th>\n",
       "    </tr>\n",
       "  </thead>\n",
       "  <tbody>\n",
       "    <tr>\n",
       "      <th>2020</th>\n",
       "      <td>3.36</td>\n",
       "      <td>0.247</td>\n",
       "    </tr>\n",
       "    <tr>\n",
       "      <th>2021</th>\n",
       "      <td>1.49</td>\n",
       "      <td>0.184</td>\n",
       "    </tr>\n",
       "  </tbody>\n",
       "</table>\n",
       "</div>"
      ],
      "text/plain": [
       "       MAP  nDCG'\n",
       "2020  3.36  0.247\n",
       "2021  1.49  0.184"
      ]
     },
     "execution_count": 11,
     "metadata": {},
     "output_type": "execute_result"
    }
   ],
   "source": [
    "evaluate_run('SCM-task1-joint_positional_word2vec-both-auto-A')"
   ]
  },
  {
   "cell_type": "markdown",
   "id": "27ee922e-00aa-41eb-b655-609c7f8f29b0",
   "metadata": {},
   "source": [
    "### The text format with decontextualized `roberta-base` embeddings\n",
    "\n",
    "As another alternative run, we will use a joint soft vector space model that uses just text and models term similarities based on semantic similarities using the [decontextualized word embeddings][1] of [the `roberta-base` model][2].\n",
    "\n",
    " [1]: https://aclanthology.org/2021.wmt-1.112\n",
    " [2]: https://huggingface.co/roberta-base"
   ]
  },
  {
   "cell_type": "code",
   "execution_count": 12,
   "id": "536b8c7c-1932-41b8-8915-fff3a5d4d8a1",
   "metadata": {},
   "outputs": [],
   "source": [
    "%%capture\n",
    "! make submission2020/SCM-task1-joint_roberta_base-text-auto-A.tsv\n",
    "! make submission2021/SCM-task1-joint_roberta_base-text-auto-A.tsv\n",
    "! make submission2022/SCM-task1-joint_roberta_base-text-auto-A.tsv"
   ]
  },
  {
   "cell_type": "code",
   "execution_count": 13,
   "id": "b13948d6-bcf2-4c59-9f6f-c9de6f1c7a32",
   "metadata": {},
   "outputs": [
    {
     "data": {
      "text/html": [
       "<div>\n",
       "<style scoped>\n",
       "    .dataframe tbody tr th:only-of-type {\n",
       "        vertical-align: middle;\n",
       "    }\n",
       "\n",
       "    .dataframe tbody tr th {\n",
       "        vertical-align: top;\n",
       "    }\n",
       "\n",
       "    .dataframe thead th {\n",
       "        text-align: right;\n",
       "    }\n",
       "</style>\n",
       "<table border=\"1\" class=\"dataframe\">\n",
       "  <thead>\n",
       "    <tr style=\"text-align: right;\">\n",
       "      <th></th>\n",
       "      <th>MAP</th>\n",
       "      <th>nDCG'</th>\n",
       "    </tr>\n",
       "  </thead>\n",
       "  <tbody>\n",
       "    <tr>\n",
       "      <th>2020</th>\n",
       "      <td>1.02</td>\n",
       "      <td>0.129</td>\n",
       "    </tr>\n",
       "    <tr>\n",
       "      <th>2021</th>\n",
       "      <td>0.73</td>\n",
       "      <td>0.097</td>\n",
       "    </tr>\n",
       "  </tbody>\n",
       "</table>\n",
       "</div>"
      ],
      "text/plain": [
       "       MAP  nDCG'\n",
       "2020  1.02  0.129\n",
       "2021  0.73  0.097"
      ]
     },
     "execution_count": 13,
     "metadata": {},
     "output_type": "execute_result"
    }
   ],
   "source": [
    "evaluate_run('SCM-task1-joint_roberta_base-text-auto-A')"
   ]
  },
  {
   "cell_type": "markdown",
   "id": "c1810ce1-d765-4792-a950-028634e22772",
   "metadata": {},
   "source": [
    "### The text + LaTeX format with decontextualized tuned `roberta-base` embeddings\n",
    "\n",
    "As another alternative run, we will use a joint soft vector space model that uses text and LaTeX separated by special `[MATH]` and `[/MATH]` tokens, and models term similarities based on semantic similarities using the [decontextualized word embeddings][1] of [the `roberta-base` model][2] fine-tuned so that it can represent math-specific tokens.\n",
    "\n",
    " [1]: https://aclanthology.org/2021.wmt-1.112\n",
    " [2]: https://huggingface.co/roberta-base"
   ]
  },
  {
   "cell_type": "code",
   "execution_count": 14,
   "id": "124d80d3-a35c-454e-a6a3-534ffe8feb36",
   "metadata": {},
   "outputs": [],
   "source": [
    "%%capture\n",
    "! make submission2020/SCM-task1-joint_tuned_roberta_base-both-auto-A.tsv\n",
    "! make submission2021/SCM-task1-joint_tuned_roberta_base-both-auto-A.tsv\n",
    "! make submission2022/SCM-task1-joint_tuned_roberta_base-both-auto-A.tsv"
   ]
  },
  {
   "cell_type": "code",
   "execution_count": 15,
   "id": "78c5ae42-ced6-42bb-8bb7-100b2aa76b46",
   "metadata": {},
   "outputs": [
    {
     "data": {
      "text/html": [
       "<div>\n",
       "<style scoped>\n",
       "    .dataframe tbody tr th:only-of-type {\n",
       "        vertical-align: middle;\n",
       "    }\n",
       "\n",
       "    .dataframe tbody tr th {\n",
       "        vertical-align: top;\n",
       "    }\n",
       "\n",
       "    .dataframe thead th {\n",
       "        text-align: right;\n",
       "    }\n",
       "</style>\n",
       "<table border=\"1\" class=\"dataframe\">\n",
       "  <thead>\n",
       "    <tr style=\"text-align: right;\">\n",
       "      <th></th>\n",
       "      <th>MAP</th>\n",
       "      <th>nDCG'</th>\n",
       "    </tr>\n",
       "  </thead>\n",
       "  <tbody>\n",
       "    <tr>\n",
       "      <th>2020</th>\n",
       "      <td>3.36</td>\n",
       "      <td>0.248</td>\n",
       "    </tr>\n",
       "    <tr>\n",
       "      <th>2021</th>\n",
       "      <td>1.48</td>\n",
       "      <td>0.184</td>\n",
       "    </tr>\n",
       "  </tbody>\n",
       "</table>\n",
       "</div>"
      ],
      "text/plain": [
       "       MAP  nDCG'\n",
       "2020  3.36  0.248\n",
       "2021  1.48  0.184"
      ]
     },
     "execution_count": 15,
     "metadata": {},
     "output_type": "execute_result"
    }
   ],
   "source": [
    "evaluate_run('SCM-task1-joint_tuned_roberta_base-both-auto-A')"
   ]
  },
  {
   "cell_type": "markdown",
   "id": "c31c44da-607b-4795-a0fc-419f522b554d",
   "metadata": {},
   "source": [
    "## Interpolated soft vector space models\n",
    "\n",
    "Secondly, we will produce runs using soft vector space models that model text and math separately and produce the final score of a document by interpolating scores for text and math. Interpolated soft vector space models are better theoretically motivated and more modular than joint vector space models, but they cannot model the similarities between text and math-specific tokens."
   ]
  },
  {
   "cell_type": "markdown",
   "id": "b5f64f89-cb77-416f-8a76-9aa8f98a2010",
   "metadata": {},
   "source": [
    "### The text + LaTeX format with no term similarities (baseline)\n",
    "\n",
    "As a baseline, we will use interpolated vector space models that use text and LaTeX separated by special `[MATH]` and `[/MATH]` tokens, and does not model any term similarities."
   ]
  },
  {
   "cell_type": "code",
   "execution_count": 16,
   "id": "7e8fe15c-ffc5-49c0-8027-f32eb9a104f6",
   "metadata": {},
   "outputs": [],
   "source": [
    "%%capture\n",
    "! make submission2020/SCM-task1-baseline_interpolated_text+latex-both-auto-X.tsv\n",
    "! make submission2021/SCM-task1-baseline_interpolated_text+latex-both-auto-X.tsv\n",
    "! make submission2022/SCM-task1-baseline_interpolated_text+latex-both-auto-X.tsv"
   ]
  },
  {
   "cell_type": "code",
   "execution_count": 17,
   "id": "8cf3d73e-30fa-4f4e-b7fc-4fe4c0994bb8",
   "metadata": {},
   "outputs": [
    {
     "data": {
      "text/html": [
       "<div>\n",
       "<style scoped>\n",
       "    .dataframe tbody tr th:only-of-type {\n",
       "        vertical-align: middle;\n",
       "    }\n",
       "\n",
       "    .dataframe tbody tr th {\n",
       "        vertical-align: top;\n",
       "    }\n",
       "\n",
       "    .dataframe thead th {\n",
       "        text-align: right;\n",
       "    }\n",
       "</style>\n",
       "<table border=\"1\" class=\"dataframe\">\n",
       "  <thead>\n",
       "    <tr style=\"text-align: right;\">\n",
       "      <th></th>\n",
       "      <th>MAP</th>\n",
       "      <th>nDCG'</th>\n",
       "    </tr>\n",
       "  </thead>\n",
       "  <tbody>\n",
       "    <tr>\n",
       "      <th>2020</th>\n",
       "      <td>2.17</td>\n",
       "      <td>0.208</td>\n",
       "    </tr>\n",
       "    <tr>\n",
       "      <th>2021</th>\n",
       "      <td>1.43</td>\n",
       "      <td>0.169</td>\n",
       "    </tr>\n",
       "  </tbody>\n",
       "</table>\n",
       "</div>"
      ],
      "text/plain": [
       "       MAP  nDCG'\n",
       "2020  2.17  0.208\n",
       "2021  1.43  0.169"
      ]
     },
     "execution_count": 17,
     "metadata": {},
     "output_type": "execute_result"
    }
   ],
   "source": [
    "evaluate_run('SCM-task1-baseline_interpolated_text+latex-both-auto-X')"
   ]
  },
  {
   "cell_type": "markdown",
   "id": "d72091f0-6c8a-45e1-8719-90895f93d716",
   "metadata": {},
   "source": [
    "### The text + Tangent-L format with no term similarities (baseline)\n",
    "\n",
    "As another baseline, we will use interpolated vector space models that use text and the format used by [the Tangent-L search engine from UWaterloo][1], and does not model any term similarities.\n",
    "\n",
    " [1]: http://ceur-ws.org/Vol-2936/paper-05.pdf"
   ]
  },
  {
   "cell_type": "code",
   "execution_count": 18,
   "id": "36d5478b-b250-4c95-9076-f19aa84eb549",
   "metadata": {},
   "outputs": [],
   "source": [
    "%%capture\n",
    "! make submission2020/SCM-task1-baseline_interpolated_text+tangentl-both-auto-X.tsv\n",
    "! make submission2021/SCM-task1-baseline_interpolated_text+tangentl-both-auto-X.tsv\n",
    "! make submission2022/SCM-task1-baseline_interpolated_text+tangentl-both-auto-X.tsv"
   ]
  },
  {
   "cell_type": "code",
   "execution_count": 19,
   "id": "357d7396-928b-4788-a90d-5b4fb97ad69f",
   "metadata": {},
   "outputs": [
    {
     "data": {
      "text/html": [
       "<div>\n",
       "<style scoped>\n",
       "    .dataframe tbody tr th:only-of-type {\n",
       "        vertical-align: middle;\n",
       "    }\n",
       "\n",
       "    .dataframe tbody tr th {\n",
       "        vertical-align: top;\n",
       "    }\n",
       "\n",
       "    .dataframe thead th {\n",
       "        text-align: right;\n",
       "    }\n",
       "</style>\n",
       "<table border=\"1\" class=\"dataframe\">\n",
       "  <thead>\n",
       "    <tr style=\"text-align: right;\">\n",
       "      <th></th>\n",
       "      <th>MAP</th>\n",
       "      <th>nDCG'</th>\n",
       "    </tr>\n",
       "  </thead>\n",
       "  <tbody>\n",
       "    <tr>\n",
       "      <th>2020</th>\n",
       "      <td>3.74</td>\n",
       "      <td>0.293</td>\n",
       "    </tr>\n",
       "    <tr>\n",
       "      <th>2021</th>\n",
       "      <td>2.82</td>\n",
       "      <td>0.237</td>\n",
       "    </tr>\n",
       "  </tbody>\n",
       "</table>\n",
       "</div>"
      ],
      "text/plain": [
       "       MAP  nDCG'\n",
       "2020  3.74  0.293\n",
       "2021  2.82  0.237"
      ]
     },
     "execution_count": 19,
     "metadata": {},
     "output_type": "execute_result"
    }
   ],
   "source": [
    "evaluate_run('SCM-task1-baseline_interpolated_text+langentl-both-auto-X')"
   ]
  },
  {
   "cell_type": "markdown",
   "id": "fb4c8a88-134e-4c69-a027-1f927f3156c0",
   "metadata": {},
   "source": [
    "### The text + LaTeX format with non-positional `word2vec` embeddings\n",
    "\n",
    "As an alternative run, we will use interpolated soft vector space models that use text and LaTeX separated by special `[MATH]` and `[/MATH]` tokens. The LaTeX soft vector space model uses term similarities based on semantic similarities using `word2vec` models without [positional weighting][1].\n",
    "\n",
    " [1]: https://github.com/MIR-MU/pine"
   ]
  },
  {
   "cell_type": "code",
   "execution_count": 20,
   "id": "7f7a14a8-4687-4cab-bf3c-29778a6675f6",
   "metadata": {},
   "outputs": [],
   "source": [
    "%%capture\n",
    "! make submission2020/SCM-task1-interpolated_text+word2vec_latex-both-auto-A.tsv\n",
    "! make submission2021/SCM-task1-interpolated_text+word2vec_latex-both-auto-A.tsv\n",
    "! make submission2022/SCM-task1-interpolated_text+word2vec_latex-both-auto-A.tsv"
   ]
  },
  {
   "cell_type": "code",
   "execution_count": 21,
   "id": "6e1681c5-bff7-46f7-90b5-09b748ff601b",
   "metadata": {},
   "outputs": [
    {
     "data": {
      "text/html": [
       "<div>\n",
       "<style scoped>\n",
       "    .dataframe tbody tr th:only-of-type {\n",
       "        vertical-align: middle;\n",
       "    }\n",
       "\n",
       "    .dataframe tbody tr th {\n",
       "        vertical-align: top;\n",
       "    }\n",
       "\n",
       "    .dataframe thead th {\n",
       "        text-align: right;\n",
       "    }\n",
       "</style>\n",
       "<table border=\"1\" class=\"dataframe\">\n",
       "  <thead>\n",
       "    <tr style=\"text-align: right;\">\n",
       "      <th></th>\n",
       "      <th>MAP</th>\n",
       "      <th>nDCG'</th>\n",
       "    </tr>\n",
       "  </thead>\n",
       "  <tbody>\n",
       "    <tr>\n",
       "      <th>2020</th>\n",
       "      <td>2.53</td>\n",
       "      <td>0.224</td>\n",
       "    </tr>\n",
       "    <tr>\n",
       "      <th>2021</th>\n",
       "      <td>1.58</td>\n",
       "      <td>0.186</td>\n",
       "    </tr>\n",
       "  </tbody>\n",
       "</table>\n",
       "</div>"
      ],
      "text/plain": [
       "       MAP  nDCG'\n",
       "2020  2.53  0.224\n",
       "2021  1.58  0.186"
      ]
     },
     "execution_count": 21,
     "metadata": {},
     "output_type": "execute_result"
    }
   ],
   "source": [
    "evaluate_run('SCM-task1-interpolated_text+word2vec_latex-both-auto-A')"
   ]
  },
  {
   "cell_type": "markdown",
   "id": "18820249-4ad0-461f-a96f-31a2052967c7",
   "metadata": {},
   "source": [
    "### The text + LaTeX format with positional `word2vec` embeddings\n",
    "\n",
    "As another alternative run, we will use interpolated soft vector space models that use text and LaTeX separated by special `[MATH]` and `[/MATH]` tokens. The LaTeX model uses term similarities based on semantic similarities using `word2vec` models with [positional weighting][1].\n",
    "\n",
    " [1]: https://github.com/MIR-MU/pine"
   ]
  },
  {
   "cell_type": "code",
   "execution_count": 22,
   "id": "876343b5-f185-45ac-b21b-a036544922c5",
   "metadata": {},
   "outputs": [],
   "source": [
    "%%capture\n",
    "! make submission2020/SCM-task1-interpolated_text+positional_word2vec_latex-both-auto-A.tsv\n",
    "! make submission2021/SCM-task1-interpolated_text+positional_word2vec_latex-both-auto-A.tsv\n",
    "! make submission2022/SCM-task1-interpolated_text+positional_word2vec_latex-both-auto-A.tsv"
   ]
  },
  {
   "cell_type": "code",
   "execution_count": 23,
   "id": "68ae2585-afca-4c45-a8b2-1f89b4b1328e",
   "metadata": {},
   "outputs": [
    {
     "data": {
      "text/html": [
       "<div>\n",
       "<style scoped>\n",
       "    .dataframe tbody tr th:only-of-type {\n",
       "        vertical-align: middle;\n",
       "    }\n",
       "\n",
       "    .dataframe tbody tr th {\n",
       "        vertical-align: top;\n",
       "    }\n",
       "\n",
       "    .dataframe thead th {\n",
       "        text-align: right;\n",
       "    }\n",
       "</style>\n",
       "<table border=\"1\" class=\"dataframe\">\n",
       "  <thead>\n",
       "    <tr style=\"text-align: right;\">\n",
       "      <th></th>\n",
       "      <th>MAP</th>\n",
       "      <th>nDCG'</th>\n",
       "    </tr>\n",
       "  </thead>\n",
       "  <tbody>\n",
       "    <tr>\n",
       "      <th>2020</th>\n",
       "      <td>2.52</td>\n",
       "      <td>0.223</td>\n",
       "    </tr>\n",
       "    <tr>\n",
       "      <th>2021</th>\n",
       "      <td>1.61</td>\n",
       "      <td>0.186</td>\n",
       "    </tr>\n",
       "  </tbody>\n",
       "</table>\n",
       "</div>"
      ],
      "text/plain": [
       "       MAP  nDCG'\n",
       "2020  2.52  0.223\n",
       "2021  1.61  0.186"
      ]
     },
     "execution_count": 23,
     "metadata": {},
     "output_type": "execute_result"
    }
   ],
   "source": [
    "evaluate_run('SCM-task1-interpolated_text+positional_word2vec_latex-both-auto-A')"
   ]
  },
  {
   "cell_type": "markdown",
   "id": "d34ba83f-590a-4c1c-9711-765221f48a79",
   "metadata": {},
   "source": [
    "### The text + Tangent-L format with non-positional `word2vec` embeddings\n",
    "\n",
    "As another alternative run, we will use interpolated soft vector space models that use text and LaTeX separated by special `[MATH]` and `[/MATH]` tokens. The LaTeX soft vector space model uses term similarities based on semantic similarities using `word2vec` models without [positional weighting][1].\n",
    "\n",
    " [1]: https://github.com/MIR-MU/pine"
   ]
  },
  {
   "cell_type": "code",
   "execution_count": 24,
   "id": "038686a0-ace0-44c3-8e1a-ed685a645084",
   "metadata": {},
   "outputs": [],
   "source": [
    "%%capture\n",
    "! make submission2020/SCM-task1-interpolated_text+word2vec_tangentl-both-auto-A.tsv\n",
    "! make submission2021/SCM-task1-interpolated_text+word2vec_tangentl-both-auto-A.tsv\n",
    "! make submission2022/SCM-task1-interpolated_text+word2vec_tangentl-both-auto-A.tsv"
   ]
  },
  {
   "cell_type": "code",
   "execution_count": 25,
   "id": "5afeb9e1-f778-460d-b5a0-19faf11269e6",
   "metadata": {},
   "outputs": [
    {
     "data": {
      "text/html": [
       "<div>\n",
       "<style scoped>\n",
       "    .dataframe tbody tr th:only-of-type {\n",
       "        vertical-align: middle;\n",
       "    }\n",
       "\n",
       "    .dataframe tbody tr th {\n",
       "        vertical-align: top;\n",
       "    }\n",
       "\n",
       "    .dataframe thead th {\n",
       "        text-align: right;\n",
       "    }\n",
       "</style>\n",
       "<table border=\"1\" class=\"dataframe\">\n",
       "  <thead>\n",
       "    <tr style=\"text-align: right;\">\n",
       "      <th></th>\n",
       "      <th>MAP</th>\n",
       "      <th>nDCG'</th>\n",
       "    </tr>\n",
       "  </thead>\n",
       "  <tbody>\n",
       "    <tr>\n",
       "      <th>2020</th>\n",
       "      <td>2.49</td>\n",
       "      <td>0.257</td>\n",
       "    </tr>\n",
       "    <tr>\n",
       "      <th>2021</th>\n",
       "      <td>2.19</td>\n",
       "      <td>0.199</td>\n",
       "    </tr>\n",
       "  </tbody>\n",
       "</table>\n",
       "</div>"
      ],
      "text/plain": [
       "       MAP  nDCG'\n",
       "2020  2.49  0.257\n",
       "2021  2.19  0.199"
      ]
     },
     "execution_count": 25,
     "metadata": {},
     "output_type": "execute_result"
    }
   ],
   "source": [
    "evaluate_run('SCM-task1-interpolated_text+word2vec_tangentl-both-auto-A')"
   ]
  },
  {
   "cell_type": "markdown",
   "id": "bb4aa6fa-b3e1-46b9-8b4c-3a445d23f190",
   "metadata": {},
   "source": [
    "### The text + Tangent-L format with positional `word2vec` embeddings\n",
    "\n",
    "As our primary run, we will use interpolated soft vector space models that use text and LaTeX separated by special `[MATH]` and `[/MATH]` tokens. The LaTeX model uses term similarities based on semantic similarities using `word2vec` models with [positional weighting][1].\n",
    "\n",
    " [1]: https://github.com/MIR-MU/pine"
   ]
  },
  {
   "cell_type": "code",
   "execution_count": 26,
   "id": "29c7fe18-acac-4a8f-839d-a5dbb9d4b7f5",
   "metadata": {},
   "outputs": [],
   "source": [
    "%%capture\n",
    "! make submission2020/SCM-task1-interpolated_text+positional_word2vec_tangentl-both-auto-P.tsv\n",
    "! make submission2021/SCM-task1-interpolated_text+positional_word2vec_tangentl-both-auto-P.tsv\n",
    "! make submission2022/SCM-task1-interpolated_text+positional_word2vec_tangentl-both-auto-P.tsv"
   ]
  },
  {
   "cell_type": "code",
   "execution_count": 27,
   "id": "7d45f62b-173b-4b99-8a21-c8310862ac5f",
   "metadata": {},
   "outputs": [
    {
     "data": {
      "text/html": [
       "<div>\n",
       "<style scoped>\n",
       "    .dataframe tbody tr th:only-of-type {\n",
       "        vertical-align: middle;\n",
       "    }\n",
       "\n",
       "    .dataframe tbody tr th {\n",
       "        vertical-align: top;\n",
       "    }\n",
       "\n",
       "    .dataframe thead th {\n",
       "        text-align: right;\n",
       "    }\n",
       "</style>\n",
       "<table border=\"1\" class=\"dataframe\">\n",
       "  <thead>\n",
       "    <tr style=\"text-align: right;\">\n",
       "      <th></th>\n",
       "      <th>MAP</th>\n",
       "      <th>nDCG'</th>\n",
       "    </tr>\n",
       "  </thead>\n",
       "  <tbody>\n",
       "    <tr>\n",
       "      <th>2020</th>\n",
       "      <td>2.36</td>\n",
       "      <td>0.254</td>\n",
       "    </tr>\n",
       "    <tr>\n",
       "      <th>2021</th>\n",
       "      <td>1.98</td>\n",
       "      <td>0.197</td>\n",
       "    </tr>\n",
       "  </tbody>\n",
       "</table>\n",
       "</div>"
      ],
      "text/plain": [
       "       MAP  nDCG'\n",
       "2020  2.36  0.254\n",
       "2021  1.98  0.197"
      ]
     },
     "execution_count": 27,
     "metadata": {},
     "output_type": "execute_result"
    }
   ],
   "source": [
    "evaluate_run('SCM-task1-interpolated_text+positional_word2vec_tangentl-both-auto-P')"
   ]
  }
 ],
 "metadata": {
  "kernelspec": {
   "display_name": "Python 3 (ipykernel)",
   "language": "python",
   "name": "python3"
  },
  "language_info": {
   "codemirror_mode": {
    "name": "ipython",
    "version": 3
   },
   "file_extension": ".py",
   "mimetype": "text/x-python",
   "name": "python",
   "nbconvert_exporter": "python",
   "pygments_lexer": "ipython3",
   "version": "3.7.3"
  }
 },
 "nbformat": 4,
 "nbformat_minor": 5
}
