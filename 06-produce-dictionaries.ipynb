{
 "cells": [
  {
   "cell_type": "markdown",
   "id": "13904365-9dbf-4725-afda-75bdb6382b55",
   "metadata": {},
   "source": [
    "# Produce dictionaries\n",
    "\n",
    "In this notebooks, we will produce dictionaries to be used in the final systems."
   ]
  },
  {
   "cell_type": "code",
   "execution_count": 1,
   "id": "589fff2f-fa2e-42de-8416-03313f62a8f1",
   "metadata": {},
   "outputs": [
    {
     "name": "stdout",
     "output_type": "stream",
     "text": [
      "mir\n"
     ]
    }
   ],
   "source": [
    "! hostname"
   ]
  },
  {
   "cell_type": "code",
   "execution_count": 2,
   "id": "046327ff-131d-49bd-94aa-fe81251e78f4",
   "metadata": {},
   "outputs": [],
   "source": [
    "%%capture\n",
    "! pip install .[word2vec]"
   ]
  },
  {
   "cell_type": "code",
   "execution_count": 3,
   "id": "f2f548d2-a053-4797-a513-dd4567f5938a",
   "metadata": {},
   "outputs": [],
   "source": [
    "from gensim.corpora import Dictionary"
   ]
  },
  {
   "cell_type": "markdown",
   "id": "cd06ffa0-ccaf-4bd4-9ae1-81e8a50ecd07",
   "metadata": {},
   "source": [
    "## The text + LaTeX format\n",
    "\n",
    "As our primary representation, we use text and LaTeX separated by special `[MATH]` and `[/MATH]` tokens."
   ]
  },
  {
   "cell_type": "code",
   "execution_count": 4,
   "id": "60467d2b-b6ac-409b-9158-75a0e6f8be4b",
   "metadata": {},
   "outputs": [],
   "source": [
    "%%capture\n",
    "! make dictionary-text+latex"
   ]
  },
  {
   "cell_type": "code",
   "execution_count": 5,
   "id": "3ffa8605-2b3f-443e-80af-3d93b21489a5",
   "metadata": {},
   "outputs": [
    {
     "name": "stdout",
     "output_type": "stream",
     "text": [
      "-rw-r--r-- 1 novotny novotny 2.3M May  6 20:36 dictionary-text+latex\n"
     ]
    }
   ],
   "source": [
    "%ls -lh dictionary-text+latex"
   ]
  },
  {
   "cell_type": "code",
   "execution_count": 6,
   "id": "78fa6886-53f6-4eb0-bf6b-4fae2806a81b",
   "metadata": {},
   "outputs": [
    {
     "data": {
      "text/plain": [
       "71897"
      ]
     },
     "execution_count": 6,
     "metadata": {},
     "output_type": "execute_result"
    }
   ],
   "source": [
    "len(Dictionary.load('dictionary-text+latex'))"
   ]
  },
  {
   "cell_type": "code",
   "execution_count": 7,
   "id": "192f13cd-63a6-4ac4-a65b-5a91f3607ffc",
   "metadata": {},
   "outputs": [
    {
     "data": {
      "text/plain": [
       "[('Ġs', 65257098),\n",
       " ('Ġ}', 56983202),\n",
       " ('Ġwe', 51958468),\n",
       " ('Ġe', 50470017),\n",
       " ('Ġwith', 48166926),\n",
       " ('ĠThe', 47652222),\n",
       " ('Ġby', 43615246),\n",
       " ('Ġ)', 42822233),\n",
       " ('Ġbe', 42302554),\n",
       " ('Ġare', 41573593)]"
      ]
     },
     "execution_count": 7,
     "metadata": {},
     "output_type": "execute_result"
    }
   ],
   "source": [
    "Dictionary.load('dictionary-text+latex').most_common(10)"
   ]
  },
  {
   "cell_type": "markdown",
   "id": "a79f41da-ded3-4f47-900b-15d566f2c0ab",
   "metadata": {},
   "source": [
    "## The text format\n",
    "\n",
    "For baselines and for models with separate indices for text and math, we have a separate dictionary with just text."
   ]
  },
  {
   "cell_type": "code",
   "execution_count": 8,
   "id": "8c42d085-85e3-4cc2-92c9-465ebea3f8dd",
   "metadata": {},
   "outputs": [],
   "source": [
    "%%capture\n",
    "! make dictionary-text"
   ]
  },
  {
   "cell_type": "code",
   "execution_count": 9,
   "id": "9ffb1af2-ae6b-49c0-b3e9-eb71f9dbc749",
   "metadata": {},
   "outputs": [
    {
     "name": "stdout",
     "output_type": "stream",
     "text": [
      "-rw-rw-r-- 1 novotny novotny 1.6M May  6 13:48 dictionary-text\n"
     ]
    }
   ],
   "source": [
    "%ls -lh dictionary-text"
   ]
  },
  {
   "cell_type": "code",
   "execution_count": 10,
   "id": "6a09010c-9b94-4af8-8933-8c55c8806ab6",
   "metadata": {},
   "outputs": [
    {
     "data": {
      "text/plain": [
       "49559"
      ]
     },
     "execution_count": 10,
     "metadata": {},
     "output_type": "execute_result"
    }
   ],
   "source": [
    "len(Dictionary.load('dictionary-text'))"
   ]
  },
  {
   "cell_type": "code",
   "execution_count": 11,
   "id": "a22f7bd0-4d3f-4512-ad68-57c6d40d3eeb",
   "metadata": {},
   "outputs": [
    {
     "data": {
      "text/plain": [
       "[('-', 83532676),\n",
       " (')', 79652058),\n",
       " ('Ġ.', 59955611),\n",
       " ('Ġ,', 59671401),\n",
       " ('Ġwe', 52938848),\n",
       " ('Ġwith', 49090999),\n",
       " ('ĠThe', 47649681),\n",
       " ('Ġby', 44548555),\n",
       " ('Ġare', 42455468),\n",
       " ('Ġbe', 40728618)]"
      ]
     },
     "execution_count": 11,
     "metadata": {},
     "output_type": "execute_result"
    }
   ],
   "source": [
    "Dictionary.load('dictionary-text').most_common(10)"
   ]
  },
  {
   "cell_type": "markdown",
   "id": "c03f63ce-db57-419d-9865-83e5c6dc341d",
   "metadata": {},
   "source": [
    "## The LaTeX format\n",
    "\n",
    "For models with separate indices for text and math, we have a separate dictionary with just LaTeX."
   ]
  },
  {
   "cell_type": "code",
   "execution_count": 12,
   "id": "bcb5e15d-f693-426f-9851-ca2aabbdc6a2",
   "metadata": {},
   "outputs": [],
   "source": [
    "%%capture\n",
    "! make dictionary-latex"
   ]
  },
  {
   "cell_type": "code",
   "execution_count": 13,
   "id": "e2b476a8-c718-4d6a-9c25-2b18a020efec",
   "metadata": {},
   "outputs": [
    {
     "name": "stdout",
     "output_type": "stream",
     "text": [
      "-rw-rw-r-- 1 novotny novotny 946K May  6 06:01 dictionary-latex\n"
     ]
    }
   ],
   "source": [
    "%ls -lh dictionary-latex"
   ]
  },
  {
   "cell_type": "code",
   "execution_count": 14,
   "id": "42be8bc0-5b6c-4532-84a2-ed65e02c809b",
   "metadata": {},
   "outputs": [
    {
     "data": {
      "text/plain": [
       "29772"
      ]
     },
     "execution_count": 14,
     "metadata": {},
     "output_type": "execute_result"
    }
   ],
   "source": [
    "len(Dictionary.load('dictionary-latex'))"
   ]
  },
  {
   "cell_type": "code",
   "execution_count": 15,
   "id": "3d8797ab-fc6e-4004-8c27-fc5718d624b2",
   "metadata": {},
   "outputs": [
    {
     "data": {
      "text/plain": [
       "[('%', 11245581),\n",
       " ('\\\\displaystyle', 10412723),\n",
       " ('\\\\', 5876856),\n",
       " ('}', 5349242),\n",
       " ('x', 5306850),\n",
       " ('p', 5078834),\n",
       " ('A', 5032629),\n",
       " ('n', 5023353),\n",
       " ('}%', 4991690),\n",
       " ('k', 4817987)]"
      ]
     },
     "execution_count": 15,
     "metadata": {},
     "output_type": "execute_result"
    }
   ],
   "source": [
    "Dictionary.load('dictionary-latex').most_common(10)"
   ]
  },
  {
   "cell_type": "markdown",
   "id": "f6c5bc64-0389-4e85-9123-d68b1e748949",
   "metadata": {},
   "source": [
    "## The Tangent-L format\n",
    "\n",
    "For models with separate indices for text and math, we have a separate dictionary with just the format used by [the Tangent-L search engine from UWaterloo][1].\n",
    "\n",
    " [1]: http://ceur-ws.org/Vol-2936/paper-05.pdf"
   ]
  },
  {
   "cell_type": "code",
   "execution_count": 16,
   "id": "f65b85d5-c272-4f99-a528-07be66273947",
   "metadata": {},
   "outputs": [],
   "source": [
    "%%capture\n",
    "! make dictionary-tangentl"
   ]
  },
  {
   "cell_type": "code",
   "execution_count": 17,
   "id": "28de9f78-5175-4979-95a1-ec79e2a65c47",
   "metadata": {},
   "outputs": [
    {
     "name": "stdout",
     "output_type": "stream",
     "text": [
      "-rw-r--r-- 1 novotny novotny 3.3M May  7 00:01 dictionary-tangentl\n"
     ]
    }
   ],
   "source": [
    "%ls -lh dictionary-tangentl"
   ]
  },
  {
   "cell_type": "code",
   "execution_count": 18,
   "id": "a78d7f60-c1ec-4808-af2b-78945fbf9b47",
   "metadata": {},
   "outputs": [
    {
     "data": {
      "text/plain": [
       "100000"
      ]
     },
     "execution_count": 18,
     "metadata": {},
     "output_type": "execute_result"
    }
   ],
   "source": [
    "len(Dictionary.load('dictionary-tangentl'))"
   ]
  },
  {
   "cell_type": "code",
   "execution_count": 19,
   "id": "03523f05-3d23-4996-9c26-abebd8951b47",
   "metadata": {},
   "outputs": [
    {
     "data": {
      "text/plain": [
       "[('(n!2,!0)', 8593592),\n",
       " ('(n!1,!0)', 7957511),\n",
       " ('(m!()1x1,[n,w])', 7364114),\n",
       " ('(f!,[n,o,u])', 3748478),\n",
       " ('(n!0,!0)', 3437038),\n",
       " ('(v!n,!0)', 3367907),\n",
       " ('(v!x,!0)', 3153294),\n",
       " ('(f!,[o,u])', 2400971),\n",
       " ('(m!()1x1,=,n)', 2283522),\n",
       " ('(v!t,!0)', 2198859)]"
      ]
     },
     "execution_count": 19,
     "metadata": {},
     "output_type": "execute_result"
    }
   ],
   "source": [
    "Dictionary.load('dictionary-tangentl').most_common(10)"
   ]
  }
 ],
 "metadata": {
  "kernelspec": {
   "display_name": "Python 3 (ipykernel)",
   "language": "python",
   "name": "python3"
  },
  "language_info": {
   "codemirror_mode": {
    "name": "ipython",
    "version": 3
   },
   "file_extension": ".py",
   "mimetype": "text/x-python",
   "name": "python",
   "nbconvert_exporter": "python",
   "pygments_lexer": "ipython3",
   "version": "3.7.3"
  }
 },
 "nbformat": 4,
 "nbformat_minor": 5
}
