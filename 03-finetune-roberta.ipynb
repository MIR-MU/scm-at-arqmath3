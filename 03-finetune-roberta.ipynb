{
 "cells": [
  {
   "cell_type": "markdown",
   "id": "7e3e1a57-40d7-44d2-89f5-d59512d58998",
   "metadata": {},
   "source": [
    "# Fine-tune `roberta-base` model"
   ]
  },
  {
   "cell_type": "markdown",
   "id": "88b09ca9-2ea2-4704-90e5-7ab848bee52d",
   "metadata": {},
   "source": [
    "In this notebook, we will fine-tune [the `roberta-base` model][1], so that it can represent math-specific tokens.\n",
    "\n",
    " [1]: https://huggingface.co/roberta-base"
   ]
  },
  {
   "cell_type": "code",
   "execution_count": 1,
   "id": "103236fd-52e4-4128-8bd5-1dd8175ef378",
   "metadata": {},
   "outputs": [
    {
     "name": "stdout",
     "output_type": "stream",
     "text": [
      "docker.apollo.fi.muni.cz\n"
     ]
    }
   ],
   "source": [
    "! hostname"
   ]
  },
  {
   "cell_type": "code",
   "execution_count": 2,
   "id": "df0c9ef6-1117-491e-b71e-25ee6d0835b8",
   "metadata": {},
   "outputs": [],
   "source": [
    "%%capture\n",
    "! pip install .[transformers,evaluation]"
   ]
  },
  {
   "cell_type": "code",
   "execution_count": 3,
   "id": "60bbc1f6-ede7-41c8-84de-4ee0ae28e93a",
   "metadata": {},
   "outputs": [],
   "source": [
    "%%capture\n",
    "! make tuned-roberta-base-text+latex"
   ]
  },
  {
   "cell_type": "markdown",
   "id": "fc7e3e2a-a81a-4ed9-a310-2bc79e43fdb1",
   "metadata": {},
   "source": [
    "We will push the fine-tuned `roberta-base` model to [the 🤗 Model Hub][1].\n",
    "\n",
    " [1]: https://huggingface.co/witiko/mathberta"
   ]
  },
  {
   "cell_type": "code",
   "execution_count": 4,
   "id": "91307a74-7998-4939-9a01-a021a2fd8f72",
   "metadata": {},
   "outputs": [],
   "source": [
    "from transformers import AutoModel\n",
    "\n",
    "model = AutoModel.from_pretrained('./tuned-roberta-base-text+latex/MaskedLanguageModeling/')\n",
    "model.push_to_hub('mathberta')"
   ]
  },
  {
   "cell_type": "markdown",
   "id": "d415b86c-ce34-47c7-a00c-e7f692de2178",
   "metadata": {},
   "source": [
    "## Intrinsic evaluation\n",
    "\n",
    "To validate our model during the training, we will plot the validation loss."
   ]
  },
  {
   "cell_type": "markdown",
   "id": "865f3936-56f2-40cf-bda8-e5163e92f11c",
   "metadata": {},
   "source": [
    "### In-domain evaluation\n",
    "\n",
    "To see how well our model generalizes to unseen data from our target domain (scientific texts), we use a held-out dataset."
   ]
  },
  {
   "cell_type": "code",
   "execution_count": 5,
   "id": "11aa01be-cda2-4079-8f8f-628e6c295086",
   "metadata": {},
   "outputs": [
    {
     "name": "stdout",
     "output_type": "stream",
     "text": [
      "-rw-r--r-- 1 1008 1011 52G May  5 01:52 dataset-text+latex.txt\n"
     ]
    }
   ],
   "source": [
    "%ls -lh dataset-text+latex.txt  # this is the training dataset"
   ]
  },
  {
   "cell_type": "code",
   "execution_count": 6,
   "id": "d34506ca-1f91-4a3c-8b0a-194355218651",
   "metadata": {},
   "outputs": [
    {
     "name": "stdout",
     "output_type": "stream",
     "text": [
      "-rw-r--r-- 1 1008 1011 457M May  5 22:11 dataset-text+latex-validation.txt\n"
     ]
    }
   ],
   "source": [
    "%ls -lh dataset-text+latex-validation.txt  # this is the validation dataset"
   ]
  },
  {
   "cell_type": "code",
   "execution_count": 7,
   "id": "de25ed39-1069-4215-88d3-0ca17296b765",
   "metadata": {},
   "outputs": [],
   "source": [
    "import json\n",
    "from pathlib import Path\n",
    "\n",
    "def get_checkpoint_step(input_checkpoint_directory: Path) -> int:\n",
    "    _, checkpoint_step = input_checkpoint_directory.name.split('-')\n",
    "    checkpoint_step = int(checkpoint_step)\n",
    "    return checkpoint_step\n",
    "\n",
    "checkpoints = Path('tuned-roberta-base-text+latex.MLM-objective').glob('*/')\n",
    "latest_checkpoint = max(checkpoints, key=get_checkpoint_step)\n",
    "with (latest_checkpoint / 'trainer_state.json').open('rt') as f:\n",
    "    id_trainer_state = json.load(f)\n",
    "\n",
    "id_train_losses = []\n",
    "id_validation_losses = []\n",
    "\n",
    "for log in id_trainer_state['log_history']:\n",
    "    epoch = float(log['epoch'])\n",
    "    if 'loss' in log:\n",
    "        loss = float(log['loss'])\n",
    "        id_train_losses.append((epoch, loss))\n",
    "    if 'eval_loss' in log:\n",
    "        eval_loss = float(log['eval_loss'])\n",
    "        id_validation_losses.append((epoch, eval_loss))"
   ]
  },
  {
   "cell_type": "markdown",
   "id": "b59406c9-65f4-43d9-8b11-2867c9763250",
   "metadata": {},
   "source": [
    "### Out-of-domain evaluation\n",
    "\n",
    "To see how well our model generalizes to unseen data from a different domain, we use [a dataset of English texts from the European Constitution][1].\n",
    "\n",
    " [1]: https://opus.nlpl.eu/EUconst.php"
   ]
  },
  {
   "cell_type": "code",
   "execution_count": 8,
   "id": "38817277-9a57-40d1-a329-22d5f18a181e",
   "metadata": {},
   "outputs": [],
   "source": [
    "%%capture\n",
    "! make out-of-domain-dataset-text-validation.json"
   ]
  },
  {
   "cell_type": "code",
   "execution_count": 9,
   "id": "112f923b-20e2-4ea1-a572-303291a85e19",
   "metadata": {},
   "outputs": [
    {
     "name": "stdout",
     "output_type": "stream",
     "text": [
      "-rw-r--r-- 1 1008 1011 952K May 25 23:28 out-of-domain-dataset-text-validation.txt\n"
     ]
    }
   ],
   "source": [
    "%ls -lh out-of-domain-dataset-text-validation.txt"
   ]
  },
  {
   "cell_type": "code",
   "execution_count": 10,
   "id": "32131cbd-05af-4577-96b1-1edcbecb7207",
   "metadata": {},
   "outputs": [],
   "source": [
    "%%capture\n",
    "! make out-of-domain-dataset-text-validation.json"
   ]
  },
  {
   "cell_type": "code",
   "execution_count": 11,
   "id": "9dc5052a-58eb-4a5f-afbc-574beff0576d",
   "metadata": {},
   "outputs": [
    {
     "name": "stdout",
     "output_type": "stream",
     "text": [
      "-rw-r--r-- 1 1008 1011 12K Jun 11 21:01 out-of-domain-dataset-text-validation.json\n"
     ]
    }
   ],
   "source": [
    "%ls -lh out-of-domain-dataset-text-validation.json"
   ]
  },
  {
   "cell_type": "code",
   "execution_count": 12,
   "id": "c6ac7cbd-cc0b-4f7b-bf6d-f731f2188d1a",
   "metadata": {},
   "outputs": [],
   "source": [
    "ood_validation_losses = []\n",
    "\n",
    "with open('out-of-domain-dataset-text-validation.json', 'rt') as f:\n",
    "    ood_results = json.load(f)\n",
    "\n",
    "for ood_result in ood_results:\n",
    "    epoch = ood_result['epoch']\n",
    "    loss = ood_result['loss']\n",
    "    ood_validation_losses.append((epoch, loss))"
   ]
  },
  {
   "cell_type": "markdown",
   "id": "5fc3472f-9650-4ea8-81ac-add10d34979f",
   "metadata": {},
   "source": [
    "### Results\n",
    "\n",
    "We will use the matplotlib library to plot the evaluation results."
   ]
  },
  {
   "cell_type": "code",
   "execution_count": 13,
   "id": "6df7900f-e1c1-472a-b62f-31c452a0d0f9",
   "metadata": {},
   "outputs": [],
   "source": [
    "import matplotlib.pyplot as plt\n",
    "\n",
    "plt.style.use('fivethirtyeight')\n",
    "plt.rc('xtick', labelsize=16)\n",
    "plt.rc('ytick', labelsize=16)\n",
    "plt.rc('legend', fontsize=16)"
   ]
  },
  {
   "cell_type": "code",
   "execution_count": 14,
   "id": "154fa2f0-1632-41fb-8670-8f4c445aedf3",
   "metadata": {},
   "outputs": [
    {
     "data": {
      "image/png": "[encoded data removed]",
      "text/plain": [
       "<Figure size 720x360 with 1 Axes>"
      ]
     },
     "metadata": {
      "needs_background": "light"
     },
     "output_type": "display_data"
    }
   ],
   "source": [
    "plt.figure(figsize=(10, 5)) \n",
    "plt.plot(*zip(*id_train_losses), label='training (in-domain)')\n",
    "plt.plot(*zip(*id_validation_losses), label='validation (in-domain)')\n",
    "plt.plot(*zip(*ood_validation_losses), label='validation (out-of-domain)')\n",
    "plt.xlabel('epoch')\n",
    "plt.ylabel('cross-entropy loss')\n",
    "plt.xlim((0.0, epoch))\n",
    "plt.ylim((0.75, 4.0))\n",
    "plt.legend()\n",
    "plt.savefig('paper/learning-curves.pdf', dpi=600)"
   ]
  }
 ],
 "metadata": {
  "kernelspec": {
   "display_name": "Python 3 (ipykernel)",
   "language": "python",
   "name": "python3"
  },
  "language_info": {
   "codemirror_mode": {
    "name": "ipython",
    "version": 3
   },
   "file_extension": ".py",
   "mimetype": "text/x-python",
   "name": "python",
   "nbconvert_exporter": "python",
   "pygments_lexer": "ipython3",
   "version": "3.8.12"
  }
 },
 "nbformat": 4,
 "nbformat_minor": 5
}
