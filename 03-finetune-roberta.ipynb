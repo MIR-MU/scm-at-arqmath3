{
 "cells": [
  {
   "cell_type": "markdown",
   "id": "7e3e1a57-40d7-44d2-89f5-d59512d58998",
   "metadata": {},
   "source": [
    "# Fine-tune `roberta-base` model"
   ]
  },
  {
   "cell_type": "markdown",
   "id": "88b09ca9-2ea2-4704-90e5-7ab848bee52d",
   "metadata": {},
   "source": [
    "In this notebook, we will fine-tune [the `roberta-base` model][1], so that it can represent math-specific tokens.\n",
    "\n",
    " [1]: https://huggingface.co/roberta-base"
   ]
  },
  {
   "cell_type": "code",
   "execution_count": 1,
   "id": "103236fd-52e4-4128-8bd5-1dd8175ef378",
   "metadata": {},
   "outputs": [
    {
     "name": "stdout",
     "output_type": "stream",
     "text": [
      "mir\n"
     ]
    }
   ],
   "source": [
    "! hostname"
   ]
  },
  {
   "cell_type": "code",
   "execution_count": 2,
   "id": "df0c9ef6-1117-491e-b71e-25ee6d0835b8",
   "metadata": {},
   "outputs": [],
   "source": [
    "%%capture\n",
    "! pip install .[tokenizers]"
   ]
  },
  {
   "cell_type": "code",
   "execution_count": 3,
   "id": "60bbc1f6-ede7-41c8-84de-4ee0ae28e93a",
   "metadata": {},
   "outputs": [],
   "source": [
    "%%capture\n",
    "! make tuned-roberta-base-text+latex"
   ]
  },
  {
   "cell_type": "markdown",
   "id": "d415b86c-ce34-47c7-a00c-e7f692de2178",
   "metadata": {},
   "source": [
    "To validate our model, we will plot the validation loss."
   ]
  },
  {
   "cell_type": "code",
   "execution_count": 4,
   "id": "de25ed39-1069-4215-88d3-0ca17296b765",
   "metadata": {},
   "outputs": [],
   "source": [
    "import json\n",
    "from pathlib import Path\n",
    "\n",
    "def get_checkpoint_number(input_directory: Path) -> int:\n",
    "    checkpoint_number = int(input_directory.name.split('-')[1])\n",
    "    return checkpoint_number\n",
    "\n",
    "checkpoints = Path('tuned-roberta-base-text+latex.MLM-objective').glob('*/')\n",
    "latest_checkpoint = max(checkpoints, key=get_checkpoint_number)\n",
    "with (latest_checkpoint / 'trainer_state.json').open('rt') as f:\n",
    "    trainer_state = json.load(f)\n",
    "\n",
    "train_losses = []\n",
    "validation_losses = []\n",
    "\n",
    "for log in trainer_state['log_history']:\n",
    "    step = int(log['step'])\n",
    "    if 'loss' in log:\n",
    "        loss = float(log['loss'])\n",
    "        train_losses.append((step, loss))\n",
    "    if 'eval_loss' in log:\n",
    "        eval_loss = float(log['eval_loss'])\n",
    "        validation_losses.append((step, eval_loss))"
   ]
  },
  {
   "cell_type": "code",
   "execution_count": 5,
   "id": "6df7900f-e1c1-472a-b62f-31c452a0d0f9",
   "metadata": {},
   "outputs": [
    {
     "data": {
      "image/png": "[encoded data removed]",
      "text/plain": [
       "<Figure size 432x288 with 1 Axes>"
      ]
     },
     "metadata": {
      "needs_background": "light"
     },
     "output_type": "display_data"
    }
   ],
   "source": [
    "from typing import Tuple\n",
    "\n",
    "import matplotlib.pyplot as plt\n",
    "\n",
    "_ = plt.plot(*zip(*train_losses), label='loss')\n",
    "_ = plt.plot(*zip(*validation_losses), label='eval_loss')\n",
    "plt.grid()\n",
    "_ = plt.legend()"
   ]
  }
 ],
 "metadata": {
  "kernelspec": {
   "display_name": "Python 3 (ipykernel)",
   "language": "python",
   "name": "python3"
  },
  "language_info": {
   "codemirror_mode": {
    "name": "ipython",
    "version": 3
   },
   "file_extension": ".py",
   "mimetype": "text/x-python",
   "name": "python",
   "nbconvert_exporter": "python",
   "pygments_lexer": "ipython3",
   "version": "3.7.3"
  }
 },
 "nbformat": 4,
 "nbformat_minor": 5
}
