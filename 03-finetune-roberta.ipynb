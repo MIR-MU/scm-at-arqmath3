{
 "cells": [
  {
   "cell_type": "markdown",
   "id": "7e3e1a57-40d7-44d2-89f5-d59512d58998",
   "metadata": {},
   "source": [
    "# Fine-tune `roberta-base`"
   ]
  },
  {
   "cell_type": "markdown",
   "id": "88b09ca9-2ea2-4704-90e5-7ab848bee52d",
   "metadata": {},
   "source": [
    "In this notebook, we will fine-tune [the `roberta-base` model][1], so that it can represent math-specific tokens.\n",
    "\n",
    " [1]: https://huggingface.co/roberta-base"
   ]
  },
  {
   "cell_type": "code",
   "execution_count": 1,
   "id": "103236fd-52e4-4128-8bd5-1dd8175ef378",
   "metadata": {},
   "outputs": [
    {
     "name": "stdout",
     "output_type": "stream",
     "text": [
      "aura.fi.muni.cz\n"
     ]
    }
   ],
   "source": [
    "! hostname"
   ]
  },
  {
   "cell_type": "code",
   "execution_count": 2,
   "id": "60bbc1f6-ede7-41c8-84de-4ee0ae28e93a",
   "metadata": {},
   "outputs": [],
   "source": [
    "from math import ceil\n",
    "from pathlib import Path\n",
    "\n",
    "from adaptor.lang_module import LangModule\n",
    "from adaptor.objectives.MLM import MaskedLanguageModeling\n",
    "from adaptor.schedules import SequentialSchedule\n",
    "from adaptor.adapter import Adapter\n",
    "from adaptor.utils import AdaptationArguments, StoppingStrategy\n",
    "\n",
    "batch_size: int = 50\n",
    "effective_batch_size: int = 256\n",
    "\n",
    "dataset: Path = Path('dataset-text+latex.txt')\n",
    "input_model_dir: Path = Path('./roberta-base-text+latex/')\n",
    "objective_dir: Path = Path('./tuned-roberta-base-text+latex.MLM-objective/')\n",
    "output_model_dir: Path = Path('./tuned-roberta-base-text+latex/')\n",
    "\n",
    "gradient_accumulation_steps = int(ceil(1.0 * effective_batch_size / batch_size))\n",
    "\n",
    "lang_module = LangModule(str(input_model_dir))\n",
    "objectives = MaskedLanguageModeling(lang_module, batch_size=batch_size,\n",
    "                                    texts_or_path=str(dataset))\n",
    "training_arguments = AdaptationArguments(output_dir=str(objective_dir),\n",
    "                                         stopping_strategy=StoppingStrategy.FIRST_OBJECTIVE_CONVERGED,\n",
    "                                         evaluation_strategy='steps',\n",
    "                                         do_train=True,\n",
    "                                         do_eval=True,\n",
    "                                         gradient_accumulation_steps=gradient_accumulation_steps,\n",
    "                                         logging_steps=1000,\n",
    "                                         eval_steps=1000,\n",
    "                                         num_train_epochs=100)\n",
    "schedule = SequentialSchedule([objectives], training_arguments)\n",
    "adapter = Adapter(lang_module, schedule, training_arguments)\n",
    "adapter.train()  # wait a few hours here\n",
    "adapter.save_model(str(model_dir))"
   ]
  }
 ],
 "metadata": {
  "kernelspec": {
   "display_name": "Python 3 (ipykernel)",
   "language": "python",
   "name": "python3"
  },
  "language_info": {
   "codemirror_mode": {
    "name": "ipython",
    "version": 3
   },
   "file_extension": ".py",
   "mimetype": "text/x-python",
   "name": "python",
   "nbconvert_exporter": "python",
   "pygments_lexer": "ipython3",
   "version": "3.7.11"
  }
 },
 "nbformat": 4,
 "nbformat_minor": 5
}
