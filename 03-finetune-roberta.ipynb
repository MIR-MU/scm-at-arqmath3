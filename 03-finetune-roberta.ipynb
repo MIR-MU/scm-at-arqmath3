{
 "cells": [
  {
   "cell_type": "markdown",
   "id": "7e3e1a57-40d7-44d2-89f5-d59512d58998",
   "metadata": {},
   "source": [
    "# Fine-tune `roberta-base` model"
   ]
  },
  {
   "cell_type": "markdown",
   "id": "88b09ca9-2ea2-4704-90e5-7ab848bee52d",
   "metadata": {},
   "source": [
    "In this notebook, we will fine-tune [the `roberta-base` model][1], so that it can represent math-specific tokens.\n",
    "\n",
    " [1]: https://huggingface.co/roberta-base"
   ]
  },
  {
   "cell_type": "code",
   "execution_count": 1,
   "id": "103236fd-52e4-4128-8bd5-1dd8175ef378",
   "metadata": {},
   "outputs": [
    {
     "name": "stdout",
     "output_type": "stream",
     "text": [
      "apollo.fi.muni.cz\n"
     ]
    }
   ],
   "source": [
    "! hostname"
   ]
  },
  {
   "cell_type": "code",
   "execution_count": 2,
   "id": "60bbc1f6-ede7-41c8-84de-4ee0ae28e93a",
   "metadata": {},
   "outputs": [],
   "source": [
    "from math import ceil\n",
    "from pathlib import Path\n",
    "\n",
    "from adaptor.lang_module import LangModule\n",
    "from adaptor.objectives.MLM import MaskedLanguageModeling\n",
    "from adaptor.schedules import SequentialSchedule\n",
    "from adaptor.adapter import Adapter\n",
    "from adaptor.utils import AdaptationArguments, StoppingStrategy\n",
    "\n",
    "batch_size: int = 48\n",
    "effective_batch_size: int = 256\n",
    "\n",
    "gradient_accumulation_steps = int(ceil(1.0 * effective_batch_size / batch_size))\n",
    "\n",
    "train_dataset: Path = Path('dataset-text+latex.txt')\n",
    "input_model_dir: Path = Path('./roberta-base-text+latex/')\n",
    "objective_dir: Path = Path('./tuned-roberta-base-text+latex.MLM-objective/')\n",
    "output_model_dir: Path = Path('./tuned-roberta-base-text+latex/')\n",
    "\n",
    "adaptation_arguments = AdaptationArguments(output_dir=str(objective_dir),\n",
    "                                           stopping_strategy=StoppingStrategy.FIRST_OBJECTIVE_CONVERGED,\n",
    "                                           evaluation_strategy='steps', do_train=True, do_eval=True,\n",
    "                                           gradient_accumulation_steps=gradient_accumulation_steps,\n",
    "                                           logging_steps=1000, eval_steps=1000, num_train_epochs=5)\n",
    "\n",
    "if not output_model_dir.exists():\n",
    "    lang_module = LangModule(str(input_model_dir))\n",
    "    objectives = MaskedLanguageModeling(lang_module, batch_size=batch_size,\n",
    "                                        texts_or_path=str(train_dataset))\n",
    "    schedule = SequentialSchedule([objectives], adaptation_arguments)\n",
    "    adapter = Adapter(lang_module, schedule, adaptation_arguments)\n",
    "\n",
    "    adapter.train()  # wait a few hours here\n",
    "    adapter.save_model(str(output_model_dir))"
   ]
  },
  {
   "cell_type": "markdown",
   "id": "d415b86c-ce34-47c7-a00c-e7f692de2178",
   "metadata": {},
   "source": [
    "To validate our model, we will plot the validation loss."
   ]
  },
  {
   "cell_type": "code",
   "execution_count": 3,
   "id": "b391db72-9aa1-41e5-96f2-9612eba79cd7",
   "metadata": {},
   "outputs": [],
   "source": [
    "%%capture\n",
    "! make dataset-text+latex-validation.txt"
   ]
  },
  {
   "cell_type": "code",
   "execution_count": 4,
   "id": "39611d07-6ea2-4d2b-9e86-5bec6d079c87",
   "metadata": {},
   "outputs": [],
   "source": [
    "from itertools import chain\n",
    "from typing import List, Iterable, Tuple\n",
    "\n",
    "from tqdm.autonotebook import tqdm\n",
    "\n",
    "validation_dataset: Path = Path('dataset-text+latex-validation.txt')\n",
    "evaluations: Path = Path('tuned-roberta-base-text+latex-evaluations.txt')\n",
    "\n",
    "if not evaluations.exists():\n",
    "    with evaluations.open('wt') as f:\n",
    "\n",
    "        def get_checkpoint_number(checkpoint: Path) -> int:\n",
    "            *_, checkpoint_number = checkpoint.name.split('-')\n",
    "            return int(checkpoint_number)\n",
    "\n",
    "        baseline: Tuple[int, str] = (0, 'roberta-base')\n",
    "        checkpoints: Iterable[Tuple[int, str]] = (\n",
    "            (get_checkpoint_number(checkpoint), str(checkpoint / 'MaskedLanguageModeling'))\n",
    "            for checkpoint\n",
    "            in objective_dir.glob('checkpoint-*')\n",
    "        )\n",
    "        checkpoints: List[Tuple[int, str]] = sorted(chain([baseline], checkpoints))\n",
    "\n",
    "        def get_eval_loss(args: Tuple[int, str]) -> Tuple[int, str, float]:\n",
    "            checkpoint_number, checkpoint = args\n",
    "            lang_module = LangModule(checkpoint)\n",
    "            objectives = MaskedLanguageModeling(lang_module, batch_size=batch_size,\n",
    "                                                texts_or_path=str(train_dataset),\n",
    "                                                val_texts_or_path=str(validation_dataset))\n",
    "            schedule = SequentialSchedule([objectives], adaptation_arguments)\n",
    "            adapter = Adapter(lang_module, schedule, adaptation_arguments)\n",
    "            evaluation = adapter.evaluate()\n",
    "            return (*args, evaluation[\"eval_loss\"])\n",
    "\n",
    "        for checkpoint_number, checkpoint, eval_loss in tqdm(map(get_eval_loss, checkpoints),\n",
    "                                                             total=len(checkpoints)):\n",
    "            print(f'{checkpoint_number}\\t{eval_loss}', file=f)"
   ]
  },
  {
   "cell_type": "code",
   "execution_count": 5,
   "id": "6df7900f-e1c1-472a-b62f-31c452a0d0f9",
   "metadata": {},
   "outputs": [
    {
     "data": {
      "image/png": "[encoded data removed]",
      "text/plain": [
       "<Figure size 432x288 with 1 Axes>"
      ]
     },
     "metadata": {
      "needs_background": "light"
     },
     "output_type": "display_data"
    }
   ],
   "source": [
    "import matplotlib.pyplot as plt\n",
    "\n",
    "def parse_line(line: str) -> Tuple[int, float]:\n",
    "    line = line.strip('\\r\\n')\n",
    "    checkpoint_number, validation_loss = line.split('\\t')\n",
    "    return int(checkpoint_number), float(validation_loss)\n",
    "\n",
    "X, Y = zip(*sorted(map(parse_line, evaluations.open('rt'))))\n",
    "_ = plt.plot(X, Y)\n",
    "plt.grid()"
   ]
  },
  {
   "cell_type": "code",
   "execution_count": 6,
   "id": "4635a015-6f1f-4609-baed-3b87133234b1",
   "metadata": {},
   "outputs": [
    {
     "name": "stdout",
     "output_type": "stream",
     "text": [
      "We achieved the lowest validation loss (4.687668323516846) in checkpoint number 12500\n"
     ]
    }
   ],
   "source": [
    "checkpoint_number, validation_loss = min(filter(lambda line: line[0] > 1,\n",
    "                                                map(parse_line, evaluations.open('rt'))),\n",
    "                                         key=lambda line: (line[1], -line[0]))\n",
    "print(f'We achieved the lowest validation loss ({validation_loss}) in checkpoint number {checkpoint_number}')"
   ]
  }
 ],
 "metadata": {
  "kernelspec": {
   "display_name": "Python 3 (ipykernel)",
   "language": "python",
   "name": "python3"
  },
  "language_info": {
   "codemirror_mode": {
    "name": "ipython",
    "version": 3
   },
   "file_extension": ".py",
   "mimetype": "text/x-python",
   "name": "python",
   "nbconvert_exporter": "python",
   "pygments_lexer": "ipython3",
   "version": "3.9.12"
  }
 },
 "nbformat": 4,
 "nbformat_minor": 5
}
